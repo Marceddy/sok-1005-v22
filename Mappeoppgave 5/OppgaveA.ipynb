{
 "cells": [
  {
   "cell_type": "markdown",
   "id": "b76b0007-bf0b-4abf-aadf-1147d08504b8",
   "metadata": {},
   "source": [
    "Koder er hentet hovedsaklig fra Espen Sirnes sine notater og fra https://seaborn.pydata.org/generated/seaborn.regplot.html"
   ]
  },
  {
   "cell_type": "code",
   "execution_count": 9,
   "id": "bf8a6f58-371a-4ebb-88f3-d6c0061041f5",
   "metadata": {},
   "outputs": [
    {
     "name": "stdout",
     "output_type": "stream",
     "text": [
      "<table class=\"table table-sm\"><thead><tr><th class=\"w-5\"></th><th class=\"w-30\">Navn</th><th class=\"text-right clickable\">Inntekt<i class=\"material-icons md-14 middle\"></i></th><th class=\"text-right clickable\">Formue</th><th class=\"text-right clickable\">Skatt</th></tr></thead><tbody><tr><td>1<!-- -->.</td><td><div class=\"name\">BENEDICTE SIGRID BERG<!-- --> <!-- -->SCHILBRED</div><div class=\"text-muted\"><a class=\"text-muted\" href=\"/spesial/skattelister/2020/5401/\">Tromsø</a>, f.<!-- --> <!-- -->1946</div></td><td class=\"text-right\">22 811 592</td><td class=\"text-right\">518 064 470</td><td class=\"text-right\">9 856 942</td></tr><tr><td>2<!-- -->.</td><td><div class=\"name\">BJØRNAR HALLSTEIN<!-- --> <!-- -->DANIELSEN</div><div class=\"text-muted\"><a class=\"text-muted\" href=\"/spesial/skattelister/2020/5401/\">Tromsø</a>, f.<!-- --> <!-- -->1947</div></td><td class=\"text-right\">18 971 820</td><td class=\"text-right\">3 215 530</td><td class=\"text-right\">6 023 447</td></tr><tr><td>3<!-- -->.</td><\n"
     ]
    }
   ],
   "source": [
    "import numpy as np\n",
    "import seaborn as sns\n",
    "import matplotlib.pyplot as plt\n",
    "from bs4 import BeautifulSoup\n",
    "import requests\n",
    "import pandas as pd\n",
    "\n",
    "def fetch_html_tables(url):\n",
    "    \"Returns a list of tables in the html of url\"\n",
    "    page = requests.get(url)\n",
    "    bs=BeautifulSoup(page.content)\n",
    "    tables=bs.find_all('table')\n",
    "    return tables\n",
    "\n",
    "tables=fetch_html_tables('https://e24.no/spesial/skattelister/2020/5401/')\n",
    "table_html=tables[0]\n",
    "\n",
    "\n",
    "print(str(table_html)[:1000])"
   ]
  },
  {
   "cell_type": "code",
   "execution_count": 10,
   "id": "a5b6b66b-9b5b-4407-933c-844c79658db3",
   "metadata": {},
   "outputs": [
    {
     "name": "stdout",
     "output_type": "stream",
     "text": [
      "[['', 'Navn', 'Inntekt\\ue5cf', 'Formue', 'Skatt'], ['1.', 'BENEDICTE SIGRID BERG SCHILBREDTromsø, f.1946', '22811592', '518064470', '9856942'], ['2.', 'BJØRNAR HALLSTEIN DANIELSENTromsø, f.1947', '18971820', '3215530', '6023447'], ['3.', 'ROAR DONSTromsø, f.1954', '16087630', '466128321', '9108653'], ['4.', 'EINAR SØRENSENTromsø, f.1951', '15011383', '86093233', '4050878'], ['5.', 'BERIT BREKMO TØLLEFSENTromsø, f.1959', '13628090', '25050145', '4505435'], ['6.', 'TROELS WALSTED HANSENTromsø, f.1976', '11898099', '6273045', '5326270'], ['7.', 'LIV ÅSE LINDRUPSENTromsø, f.1947', '11834931', '5099172', '2640883'], ['8.', 'TOR HARALD LINDRUPSENTromsø, f.1948', '11764685', '9430602', '2664120'], ['9.', 'ERIK MATHISENTromsø, f.1976', '11641156', '68190031', '4296212'], ['10.', 'LARS IVER MAGNE LARSENTromsø, f.1963', '11211420', '11786044', '3732898'], ['11.', 'SIGBJØRN ESPENESTromsø, f.1972', '10374454', '36206408', '3683318'], ['12.', 'RUNE HANSENTromsø, f.1973', '10241964', '94100605', '41\n"
     ]
    }
   ],
   "source": [
    "def html_to_table(html):\n",
    "    \"Returns the table defined in html as a list\"\n",
    "    \n",
    "    table=[]\n",
    "    for row in html.find_all('tr'):\n",
    "        r=[]\n",
    "        cells=row.find_all('td')\n",
    "        \n",
    "        if len(cells)==0:\n",
    "            cells=row.find_all('th')\n",
    "            \n",
    "        for cell in cells:\n",
    "            cell=format(cell)\n",
    "            r.append(cell)\n",
    "        \n",
    "        table.append(r)\n",
    "    return table\n",
    "\n",
    "def format(cell):\n",
    "    \"Returns a string after converting bs4 object cell to clean text\"\n",
    "    if cell.content is None:\n",
    "        s=cell.text\n",
    "    elif len(cell.content)==0:\n",
    "        return ''\n",
    "    else:\n",
    "        s=' '.join([str(c) for c in cell.content])\n",
    "\n",
    "    s=s.replace('\\xa0','')\n",
    "    s=s.replace('\\n','')\n",
    "    return s\n",
    "\n",
    "table=html_to_table(table_html)\n",
    "\n",
    "print(str(table)[:1000])"
   ]
  },
  {
   "cell_type": "code",
   "execution_count": 11,
   "id": "1790062e-de0d-4037-95b6-1e4732558136",
   "metadata": {},
   "outputs": [
    {
     "data": {
      "text/plain": [
       "';Navn;Inntekt\\ue5cf;Formue;Skatt'"
      ]
     },
     "execution_count": 11,
     "metadata": {},
     "output_type": "execute_result"
    }
   ],
   "source": [
    "';'.join(table[0])"
   ]
  },
  {
   "cell_type": "code",
   "execution_count": 12,
   "id": "fc9471cc-d913-4f65-b9a3-e9eeab7201d2",
   "metadata": {},
   "outputs": [],
   "source": [
    "def save_data(file_name,table):\n",
    "    \"Saves table to file_name\"\n",
    "    f=open(file_name,'w')\n",
    "    for row in table:\n",
    "        f.write(';'.join(row)+'\\n')\n",
    "    f.close()\n",
    "    \n",
    "save_data('skatteliste.csv',table)"
   ]
  },
  {
   "cell_type": "code",
   "execution_count": 13,
   "id": "8cdd3086-5839-4ab6-b6c5-a3cc5d7b7490",
   "metadata": {},
   "outputs": [
    {
     "data": {
      "text/html": [
       "<div>\n",
       "<style scoped>\n",
       "    .dataframe tbody tr th:only-of-type {\n",
       "        vertical-align: middle;\n",
       "    }\n",
       "\n",
       "    .dataframe tbody tr th {\n",
       "        vertical-align: top;\n",
       "    }\n",
       "\n",
       "    .dataframe thead th {\n",
       "        text-align: right;\n",
       "    }\n",
       "</style>\n",
       "<table border=\"1\" class=\"dataframe\">\n",
       "  <thead>\n",
       "    <tr style=\"text-align: right;\">\n",
       "      <th></th>\n",
       "      <th>Navn</th>\n",
       "      <th>Inntekt</th>\n",
       "      <th>Formue</th>\n",
       "      <th>Skatt</th>\n",
       "    </tr>\n",
       "  </thead>\n",
       "  <tbody>\n",
       "    <tr>\n",
       "      <th>0</th>\n",
       "      <td>BENEDICTE SIGRID BERG SCHILBREDTromsø, f.1946</td>\n",
       "      <td>22811592</td>\n",
       "      <td>518064470</td>\n",
       "      <td>9856942</td>\n",
       "    </tr>\n",
       "    <tr>\n",
       "      <th>1</th>\n",
       "      <td>BJØRNAR HALLSTEIN DANIELSENTromsø, f.1947</td>\n",
       "      <td>18971820</td>\n",
       "      <td>3215530</td>\n",
       "      <td>6023447</td>\n",
       "    </tr>\n",
       "    <tr>\n",
       "      <th>2</th>\n",
       "      <td>ROAR DONSTromsø, f.1954</td>\n",
       "      <td>16087630</td>\n",
       "      <td>466128321</td>\n",
       "      <td>9108653</td>\n",
       "    </tr>\n",
       "    <tr>\n",
       "      <th>3</th>\n",
       "      <td>EINAR SØRENSENTromsø, f.1951</td>\n",
       "      <td>15011383</td>\n",
       "      <td>86093233</td>\n",
       "      <td>4050878</td>\n",
       "    </tr>\n",
       "    <tr>\n",
       "      <th>4</th>\n",
       "      <td>BERIT BREKMO TØLLEFSENTromsø, f.1959</td>\n",
       "      <td>13628090</td>\n",
       "      <td>25050145</td>\n",
       "      <td>4505435</td>\n",
       "    </tr>\n",
       "    <tr>\n",
       "      <th>5</th>\n",
       "      <td>TROELS WALSTED HANSENTromsø, f.1976</td>\n",
       "      <td>11898099</td>\n",
       "      <td>6273045</td>\n",
       "      <td>5326270</td>\n",
       "    </tr>\n",
       "    <tr>\n",
       "      <th>6</th>\n",
       "      <td>LIV ÅSE LINDRUPSENTromsø, f.1947</td>\n",
       "      <td>11834931</td>\n",
       "      <td>5099172</td>\n",
       "      <td>2640883</td>\n",
       "    </tr>\n",
       "    <tr>\n",
       "      <th>7</th>\n",
       "      <td>TOR HARALD LINDRUPSENTromsø, f.1948</td>\n",
       "      <td>11764685</td>\n",
       "      <td>9430602</td>\n",
       "      <td>2664120</td>\n",
       "    </tr>\n",
       "    <tr>\n",
       "      <th>8</th>\n",
       "      <td>ERIK MATHISENTromsø, f.1976</td>\n",
       "      <td>11641156</td>\n",
       "      <td>68190031</td>\n",
       "      <td>4296212</td>\n",
       "    </tr>\n",
       "    <tr>\n",
       "      <th>9</th>\n",
       "      <td>LARS IVER MAGNE LARSENTromsø, f.1963</td>\n",
       "      <td>11211420</td>\n",
       "      <td>11786044</td>\n",
       "      <td>3732898</td>\n",
       "    </tr>\n",
       "    <tr>\n",
       "      <th>10</th>\n",
       "      <td>SIGBJØRN ESPENESTromsø, f.1972</td>\n",
       "      <td>10374454</td>\n",
       "      <td>36206408</td>\n",
       "      <td>3683318</td>\n",
       "    </tr>\n",
       "    <tr>\n",
       "      <th>11</th>\n",
       "      <td>RUNE HANSENTromsø, f.1973</td>\n",
       "      <td>10241964</td>\n",
       "      <td>94100605</td>\n",
       "      <td>4137656</td>\n",
       "    </tr>\n",
       "    <tr>\n",
       "      <th>12</th>\n",
       "      <td>RUNE BLASCHEKTromsø, f.1966</td>\n",
       "      <td>10096342</td>\n",
       "      <td>0</td>\n",
       "      <td>3344044</td>\n",
       "    </tr>\n",
       "    <tr>\n",
       "      <th>13</th>\n",
       "      <td>SNORRE SMEDSAAS STINESSENTromsø, f.1974</td>\n",
       "      <td>9364072</td>\n",
       "      <td>0</td>\n",
       "      <td>2929019</td>\n",
       "    </tr>\n",
       "    <tr>\n",
       "      <th>14</th>\n",
       "      <td>BENGT FRODE HANSENTromsø, f.1968</td>\n",
       "      <td>9096260</td>\n",
       "      <td>51673008</td>\n",
       "      <td>3378024</td>\n",
       "    </tr>\n",
       "    <tr>\n",
       "      <th>15</th>\n",
       "      <td>BENTE AKSELSENTromsø, f.1961</td>\n",
       "      <td>8719239</td>\n",
       "      <td>41108265</td>\n",
       "      <td>3198945</td>\n",
       "    </tr>\n",
       "    <tr>\n",
       "      <th>16</th>\n",
       "      <td>KNUT TORALF NYGÅRDTromsø, f.1945</td>\n",
       "      <td>8714827</td>\n",
       "      <td>15414271</td>\n",
       "      <td>2841033</td>\n",
       "    </tr>\n",
       "    <tr>\n",
       "      <th>17</th>\n",
       "      <td>ESPEN JOHANNESSENTromsø, f.1967</td>\n",
       "      <td>8305263</td>\n",
       "      <td>3694383</td>\n",
       "      <td>4107662</td>\n",
       "    </tr>\n",
       "    <tr>\n",
       "      <th>18</th>\n",
       "      <td>RUNE ØIEN MADSENTromsø, f.1973</td>\n",
       "      <td>8189604</td>\n",
       "      <td>95232428</td>\n",
       "      <td>3492021</td>\n",
       "    </tr>\n",
       "    <tr>\n",
       "      <th>19</th>\n",
       "      <td>IVAR BÆKKEN AUSTADTromsø, f.1969</td>\n",
       "      <td>8038064</td>\n",
       "      <td>159188591</td>\n",
       "      <td>4059810</td>\n",
       "    </tr>\n",
       "  </tbody>\n",
       "</table>\n",
       "</div>"
      ],
      "text/plain": [
       "                                             Navn   Inntekt     Formue  \\\n",
       "0   BENEDICTE SIGRID BERG SCHILBREDTromsø, f.1946  22811592  518064470   \n",
       "1       BJØRNAR HALLSTEIN DANIELSENTromsø, f.1947  18971820    3215530   \n",
       "2                         ROAR DONSTromsø, f.1954  16087630  466128321   \n",
       "3                    EINAR SØRENSENTromsø, f.1951  15011383   86093233   \n",
       "4            BERIT BREKMO TØLLEFSENTromsø, f.1959  13628090   25050145   \n",
       "5             TROELS WALSTED HANSENTromsø, f.1976  11898099    6273045   \n",
       "6                LIV ÅSE LINDRUPSENTromsø, f.1947  11834931    5099172   \n",
       "7             TOR HARALD LINDRUPSENTromsø, f.1948  11764685    9430602   \n",
       "8                     ERIK MATHISENTromsø, f.1976  11641156   68190031   \n",
       "9            LARS IVER MAGNE LARSENTromsø, f.1963  11211420   11786044   \n",
       "10                 SIGBJØRN ESPENESTromsø, f.1972  10374454   36206408   \n",
       "11                      RUNE HANSENTromsø, f.1973  10241964   94100605   \n",
       "12                    RUNE BLASCHEKTromsø, f.1966  10096342          0   \n",
       "13        SNORRE SMEDSAAS STINESSENTromsø, f.1974   9364072          0   \n",
       "14               BENGT FRODE HANSENTromsø, f.1968   9096260   51673008   \n",
       "15                   BENTE AKSELSENTromsø, f.1961   8719239   41108265   \n",
       "16               KNUT TORALF NYGÅRDTromsø, f.1945   8714827   15414271   \n",
       "17                ESPEN JOHANNESSENTromsø, f.1967   8305263    3694383   \n",
       "18                 RUNE ØIEN MADSENTromsø, f.1973   8189604   95232428   \n",
       "19               IVAR BÆKKEN AUSTADTromsø, f.1969   8038064  159188591   \n",
       "\n",
       "      Skatt  \n",
       "0   9856942  \n",
       "1   6023447  \n",
       "2   9108653  \n",
       "3   4050878  \n",
       "4   4505435  \n",
       "5   5326270  \n",
       "6   2640883  \n",
       "7   2664120  \n",
       "8   4296212  \n",
       "9   3732898  \n",
       "10  3683318  \n",
       "11  4137656  \n",
       "12  3344044  \n",
       "13  2929019  \n",
       "14  3378024  \n",
       "15  3198945  \n",
       "16  2841033  \n",
       "17  4107662  \n",
       "18  3492021  \n",
       "19  4059810  "
      ]
     },
     "execution_count": 13,
     "metadata": {},
     "output_type": "execute_result"
    }
   ],
   "source": [
    "Tabell=pd.read_csv('skatteliste.csv', delimiter=';')\n",
    "Tabell=Tabell.rename(columns={'Inntekt': 'Inntekt'})\n",
    "Tabell.pop('Unnamed: 0')\n",
    "Tabell"
   ]
  },
  {
   "cell_type": "code",
   "execution_count": 14,
   "id": "bea6c601-b8eb-4026-a2d0-99d81c90de49",
   "metadata": {},
   "outputs": [
    {
     "name": "stdout",
     "output_type": "stream",
     "text": [
      "<class 'pandas.core.frame.DataFrame'>\n",
      "RangeIndex: 20 entries, 0 to 19\n",
      "Data columns (total 4 columns):\n",
      " #   Column   Non-Null Count  Dtype \n",
      "---  ------   --------------  ----- \n",
      " 0   Navn     20 non-null     object\n",
      " 1   Inntekt  20 non-null     int64 \n",
      " 2   Formue   20 non-null     int64 \n",
      " 3   Skatt    20 non-null     int64 \n",
      "dtypes: int64(3), object(1)\n",
      "memory usage: 768.0+ bytes\n"
     ]
    }
   ],
   "source": [
    "Tabell.info()\n"
   ]
  },
  {
   "cell_type": "code",
   "execution_count": 15,
   "id": "36db8143-1738-4755-92a8-4964dd648b5e",
   "metadata": {},
   "outputs": [
    {
     "name": "stdout",
     "output_type": "stream",
     "text": [
      "                                 OLS Regression Results                                \n",
      "=======================================================================================\n",
      "Dep. Variable:                 Formue   R-squared (uncentered):                   0.590\n",
      "Model:                            OLS   Adj. R-squared (uncentered):              0.568\n",
      "Method:                 Least Squares   F-statistic:                              27.34\n",
      "Date:                Thu, 31 Mar 2022   Prob (F-statistic):                    4.79e-05\n",
      "Time:                        13:18:25   Log-Likelihood:                         -397.95\n",
      "No. Observations:                  20   AIC:                                      797.9\n",
      "Df Residuals:                      19   BIC:                                      798.9\n",
      "Df Model:                           1                                                  \n",
      "Covariance Type:            nonrobust                                                  \n",
      "==============================================================================\n",
      "                 coef    std err          t      P>|t|      [0.025      0.975]\n",
      "------------------------------------------------------------------------------\n",
      "Skatt         26.6912      5.105      5.228      0.000      16.006      37.376\n",
      "==============================================================================\n",
      "Omnibus:                       16.288   Durbin-Watson:                   1.848\n",
      "Prob(Omnibus):                  0.000   Jarque-Bera (JB):               15.500\n",
      "Skew:                           1.760   Prob(JB):                     0.000431\n",
      "Kurtosis:                       5.491   Cond. No.                         1.00\n",
      "==============================================================================\n",
      "\n",
      "Notes:\n",
      "[1] R² is computed without centering (uncentered) since the model does not contain a constant.\n",
      "[2] Standard Errors assume that the covariance matrix of the errors is correctly specified.\n"
     ]
    }
   ],
   "source": [
    "from statsmodels.regression.linear_model import OLS\n",
    "\n",
    "res=OLS(Tabell['Formue'].astype(float), Tabell['Skatt'].astype(float)).fit()\n",
    "\n",
    "print(res.summary())"
   ]
  },
  {
   "cell_type": "code",
   "execution_count": 17,
   "id": "d0edfb22-95e2-4674-9559-429bbe7de572",
   "metadata": {},
   "outputs": [
    {
     "data": {
      "image/png": "[encoded data removed]",
      "text/plain": [
       "<Figure size 432x288 with 1 Axes>"
      ]
     },
     "metadata": {
      "needs_background": "light"
     },
     "output_type": "display_data"
    }
   ],
   "source": [
    "import seaborn as sns\n",
    "\n",
    "\n",
    "sns.regplot(x = 'Skatt', y= 'Formue', data = Tabell);"
   ]
  },
  {
   "cell_type": "markdown",
   "id": "165ca4ca-4618-4a1e-b8a6-1ecc15f2862f",
   "metadata": {},
   "source": [
    "Vi ser tydlig at det er en positiv korreleasjon mellom formue og skatt. Dette kommer av at vi i Norge betaler skatt prosentvis og da vil de som har større formue betale mer skatt. Skatten i Norge kommer mest fra inntekten derfor vil vi se noen med liten formue betale mye skatt."
   ]
  }
 ],
 "metadata": {
  "kernelspec": {
   "display_name": "Python 3 (ipykernel)",
   "language": "python",
   "name": "python3"
  },
  "language_info": {
   "codemirror_mode": {
    "name": "ipython",
    "version": 3
   },
   "file_extension": ".py",
   "mimetype": "text/x-python",
   "name": "python",
   "nbconvert_exporter": "python",
   "pygments_lexer": "ipython3",
   "version": "3.9.9"
  }
 },
 "nbformat": 4,
 "nbformat_minor": 5
}
